{
  "nbformat": 4,
  "nbformat_minor": 0,
  "metadata": {
    "colab": {
      "name": "Nhan-biet-chu-viet-tay-60000",
      "provenance": [],
      "collapsed_sections": [],
      "mount_file_id": "1cNg7UQn_AbpH_Sbmo91JA0hf-RwgULgD",
      "authorship_tag": "ABX9TyMORhyJX2q3NzozNUwKjbMk",
      "include_colab_link": true
    },
    "kernelspec": {
      "name": "python3",
      "display_name": "Python 3"
    },
    "accelerator": "GPU"
  },
  "cells": [
    {
      "cell_type": "markdown",
      "metadata": {
        "id": "view-in-github",
        "colab_type": "text"
      },
      "source": [
        "<a href=\"https://colab.research.google.com/github/PhmHiu/HandWriting-Digits-Classification/blob/main/Nhan_biet_chu_viet_tay_60000.ipynb\" target=\"_parent\"><img src=\"https://colab.research.google.com/assets/colab-badge.svg\" alt=\"Open In Colab\"/></a>"
      ]
    },
    {
      "cell_type": "code",
      "metadata": {
        "id": "OB8OoYQTFH2f"
      },
      "source": [
        "import numpy as np\n",
        "import matplotlib.pyplot as plt\n",
        "from keras.models import Sequential\n",
        "from keras.layers import Dense, Dropout, Activation, Flatten\n",
        "from keras.layers import Conv2D, MaxPooling2D\n",
        "from keras.utils import np_utils\n",
        "from keras.datasets import mnist\n",
        "from keras.callbacks import EarlyStopping\n",
        "from keras.layers.experimental.preprocessing import Normalization\n",
        "from keras.preprocessing.image import ImageDataGenerator"
      ],
      "execution_count": null,
      "outputs": []
    },
    {
      "cell_type": "code",
      "metadata": {
        "colab": {
          "base_uri": "https://localhost:8080/"
        },
        "id": "UUWUL0y3FIUf",
        "outputId": "0ceaeaa4-4287-4c4c-9ad6-f2fa20e47334"
      },
      "source": [
        "# 2. Load dữ liệu MNIST\n",
        "(X_train, y_train), (X_test, y_test) = mnist.load_data(path=\"/content/drive/MyDrive/DATA/mnist.npz\")\n",
        "X_val, y_val = X_train[50000:60000,:], y_train[50000:60000]\n",
        "X_train, y_train = X_train[:50000,:], y_train[:50000]\n",
        "print(X_train.shape)"
      ],
      "execution_count": null,
      "outputs": [
        {
          "output_type": "stream",
          "text": [
            "(50000, 28, 28)\n"
          ],
          "name": "stdout"
        }
      ]
    },
    {
      "cell_type": "code",
      "metadata": {
        "id": "gYp4-xTlFeLy"
      },
      "source": [
        "# 3. Reshape lại dữ liệu cho đúng kích thước mà keras yêu cầu\n",
        "X_train = X_train.reshape(X_train.shape[0], 28, 28, 1)\n",
        "X_val = X_val.reshape(X_val.shape[0], 28, 28, 1)\n",
        "X_test = X_test.reshape(X_test.shape[0], 28, 28, 1)"
      ],
      "execution_count": null,
      "outputs": []
    },
    {
      "cell_type": "code",
      "metadata": {
        "colab": {
          "base_uri": "https://localhost:8080/"
        },
        "id": "Y2yErhGAFgKi",
        "outputId": "ff4de3ca-10e5-4b77-cb57-f5776b35ee4f"
      },
      "source": [
        "# 4. One hot encoding label (Y)\n",
        "Y_train = np_utils.to_categorical(y_train, 10)\n",
        "Y_val = np_utils.to_categorical(y_val, 10)\n",
        "Y_test = np_utils.to_categorical(y_test, 10)\n",
        "print('Dữ liệu y ban đầu ', y_train[0])\n",
        "print('Dữ liệu y sau one-hot encoding ',Y_train[0])"
      ],
      "execution_count": null,
      "outputs": [
        {
          "output_type": "stream",
          "text": [
            "Dữ liệu y ban đầu  5\n",
            "Dữ liệu y sau one-hot encoding  [0. 0. 0. 0. 0. 1. 0. 0. 0. 0.]\n"
          ],
          "name": "stdout"
        }
      ]
    },
    {
      "cell_type": "code",
      "metadata": {
        "id": "V5SxuAZ_FiVz"
      },
      "source": [
        "# 5. Định nghĩa model\n",
        "model = Sequential()\n",
        " \n",
        "# Thêm Convolutional layer với 32 kernel, kích thước kernel 3*3\n",
        "# dùng hàm sigmoid làm activation và chỉ rõ input_shape cho layer đầu tiên\n",
        "model.add(Conv2D(64, 3, activation='relu', padding='same', input_shape=(28,28,1)))\n",
        "\n",
        "# Thêm Max pooling layer\n",
        "model.add(MaxPooling2D(pool_size=(2,2)))\n",
        "\n",
        "model.add(Conv2D(128,3,padding='same', activation='relu'))\n",
        "model.add(MaxPooling2D(pool_size=(2,2)))\n",
        "# Flatten layer chuyển từ tensor sang vector\n",
        "model.add(Flatten())\n",
        "\n",
        "# Thêm Fully Connected layer với 128 nodes và dùng hàm sigmoid\n",
        "model.add(Dense(128, activation='relu'))\n",
        "model.add(Dropout(0.2))\n",
        "# Output layer với 10 node và dùng softmax function để chuyển sang xác xuất.\n",
        "model.add(Dense(10, activation='softmax'))"
      ],
      "execution_count": null,
      "outputs": []
    },
    {
      "cell_type": "code",
      "metadata": {
        "id": "s89rQrrXFlED"
      },
      "source": [
        "# 6. Compile model, chỉ rõ hàm loss_function nào được sử dụng, phương thức \n",
        "# đùng để tối ưu hàm loss function.\n",
        "model.compile(loss='categorical_crossentropy',\n",
        "              optimizer='adam',\n",
        "              metrics=['accuracy'])"
      ],
      "execution_count": null,
      "outputs": []
    },
    {
      "cell_type": "code",
      "metadata": {
        "colab": {
          "base_uri": "https://localhost:8080/"
        },
        "id": "tgezPpaxFn9z",
        "outputId": "dd32234e-ebe2-4685-a287-d3280f4cb6ba"
      },
      "source": [
        "# 7. Thực hiện train model với data\n",
        "datagen = ImageDataGenerator(width_shift_range=0.1, height_shift_range=0.1, rotation_range=0.1, zoom_range=0.1)\n",
        "it_train = datagen.flow(X_train, Y_train, batch_size=64)\n",
        "steps = int(X_train.shape[0] / 64)\n",
        "es = EarlyStopping(monitor='val_loss', mode='min', verbose=1, patience=2)\n",
        "H = model.fit(it_train, validation_data=(X_val, Y_val),\n",
        "          batch_size=64, epochs=50, verbose=1)\n",
        "model.summary()"
      ],
      "execution_count": null,
      "outputs": [
        {
          "output_type": "stream",
          "text": [
            "Epoch 1/50\n",
            "782/782 [==============================] - 14s 18ms/step - loss: 0.5277 - accuracy: 0.8965 - val_loss: 0.0536 - val_accuracy: 0.9858\n",
            "Epoch 2/50\n",
            "782/782 [==============================] - 14s 18ms/step - loss: 0.1279 - accuracy: 0.9616 - val_loss: 0.0602 - val_accuracy: 0.9807\n",
            "Epoch 3/50\n",
            "782/782 [==============================] - 14s 18ms/step - loss: 0.1006 - accuracy: 0.9688 - val_loss: 0.0447 - val_accuracy: 0.9870\n",
            "Epoch 4/50\n",
            "782/782 [==============================] - 14s 18ms/step - loss: 0.0922 - accuracy: 0.9717 - val_loss: 0.0430 - val_accuracy: 0.9882\n",
            "Epoch 5/50\n",
            "782/782 [==============================] - 14s 18ms/step - loss: 0.0847 - accuracy: 0.9746 - val_loss: 0.0410 - val_accuracy: 0.9897\n",
            "Epoch 6/50\n",
            "782/782 [==============================] - 14s 18ms/step - loss: 0.0788 - accuracy: 0.9766 - val_loss: 0.0404 - val_accuracy: 0.9892\n",
            "Epoch 7/50\n",
            "782/782 [==============================] - 14s 18ms/step - loss: 0.0705 - accuracy: 0.9789 - val_loss: 0.0395 - val_accuracy: 0.9889\n",
            "Epoch 8/50\n",
            "782/782 [==============================] - 14s 18ms/step - loss: 0.0688 - accuracy: 0.9793 - val_loss: 0.0423 - val_accuracy: 0.9876\n",
            "Epoch 9/50\n",
            "782/782 [==============================] - 14s 18ms/step - loss: 0.0641 - accuracy: 0.9807 - val_loss: 0.0333 - val_accuracy: 0.9899\n",
            "Epoch 10/50\n",
            "782/782 [==============================] - 14s 18ms/step - loss: 0.0622 - accuracy: 0.9811 - val_loss: 0.0407 - val_accuracy: 0.9889\n",
            "Epoch 11/50\n",
            "782/782 [==============================] - 14s 18ms/step - loss: 0.0591 - accuracy: 0.9825 - val_loss: 0.0385 - val_accuracy: 0.9904\n",
            "Epoch 12/50\n",
            "782/782 [==============================] - 14s 18ms/step - loss: 0.0579 - accuracy: 0.9822 - val_loss: 0.0468 - val_accuracy: 0.9870\n",
            "Epoch 13/50\n",
            "782/782 [==============================] - 14s 18ms/step - loss: 0.0552 - accuracy: 0.9839 - val_loss: 0.0492 - val_accuracy: 0.9885\n",
            "Epoch 14/50\n",
            "782/782 [==============================] - 14s 18ms/step - loss: 0.0556 - accuracy: 0.9831 - val_loss: 0.0428 - val_accuracy: 0.9895\n",
            "Epoch 15/50\n",
            "782/782 [==============================] - 14s 18ms/step - loss: 0.0507 - accuracy: 0.9844 - val_loss: 0.0336 - val_accuracy: 0.9915\n",
            "Epoch 16/50\n",
            "782/782 [==============================] - 14s 18ms/step - loss: 0.0508 - accuracy: 0.9846 - val_loss: 0.0364 - val_accuracy: 0.9920\n",
            "Epoch 17/50\n",
            "782/782 [==============================] - 14s 18ms/step - loss: 0.0473 - accuracy: 0.9855 - val_loss: 0.0346 - val_accuracy: 0.9912\n",
            "Epoch 18/50\n",
            "782/782 [==============================] - 14s 18ms/step - loss: 0.0440 - accuracy: 0.9863 - val_loss: 0.0382 - val_accuracy: 0.9924\n",
            "Epoch 19/50\n",
            "782/782 [==============================] - 14s 18ms/step - loss: 0.0464 - accuracy: 0.9864 - val_loss: 0.0335 - val_accuracy: 0.9927\n",
            "Epoch 20/50\n",
            "782/782 [==============================] - 14s 18ms/step - loss: 0.0435 - accuracy: 0.9866 - val_loss: 0.0412 - val_accuracy: 0.9890\n",
            "Epoch 21/50\n",
            "782/782 [==============================] - 14s 18ms/step - loss: 0.0416 - accuracy: 0.9878 - val_loss: 0.0323 - val_accuracy: 0.9916\n",
            "Epoch 22/50\n",
            "782/782 [==============================] - 14s 18ms/step - loss: 0.0434 - accuracy: 0.9874 - val_loss: 0.0403 - val_accuracy: 0.9912\n",
            "Epoch 23/50\n",
            "782/782 [==============================] - 14s 18ms/step - loss: 0.0418 - accuracy: 0.9880 - val_loss: 0.0320 - val_accuracy: 0.9926\n",
            "Epoch 24/50\n",
            "782/782 [==============================] - 14s 18ms/step - loss: 0.0431 - accuracy: 0.9874 - val_loss: 0.0386 - val_accuracy: 0.9912\n",
            "Epoch 25/50\n",
            "782/782 [==============================] - 14s 18ms/step - loss: 0.0397 - accuracy: 0.9882 - val_loss: 0.0381 - val_accuracy: 0.9904\n",
            "Epoch 26/50\n",
            "782/782 [==============================] - 14s 18ms/step - loss: 0.0407 - accuracy: 0.9883 - val_loss: 0.0328 - val_accuracy: 0.9909\n",
            "Epoch 27/50\n",
            "782/782 [==============================] - 14s 18ms/step - loss: 0.0398 - accuracy: 0.9877 - val_loss: 0.0461 - val_accuracy: 0.9872\n",
            "Epoch 28/50\n",
            "782/782 [==============================] - 14s 18ms/step - loss: 0.0409 - accuracy: 0.9883 - val_loss: 0.0311 - val_accuracy: 0.9917\n",
            "Epoch 29/50\n",
            "782/782 [==============================] - 14s 18ms/step - loss: 0.0373 - accuracy: 0.9892 - val_loss: 0.0396 - val_accuracy: 0.9894\n",
            "Epoch 30/50\n",
            "782/782 [==============================] - 14s 18ms/step - loss: 0.0358 - accuracy: 0.9895 - val_loss: 0.0373 - val_accuracy: 0.9916\n",
            "Epoch 31/50\n",
            "782/782 [==============================] - 14s 18ms/step - loss: 0.0366 - accuracy: 0.9891 - val_loss: 0.0437 - val_accuracy: 0.9903\n",
            "Epoch 32/50\n",
            "782/782 [==============================] - 14s 18ms/step - loss: 0.0351 - accuracy: 0.9893 - val_loss: 0.0414 - val_accuracy: 0.9904\n",
            "Epoch 33/50\n",
            "782/782 [==============================] - 14s 18ms/step - loss: 0.0383 - accuracy: 0.9888 - val_loss: 0.0401 - val_accuracy: 0.9895\n",
            "Epoch 34/50\n",
            "782/782 [==============================] - 14s 18ms/step - loss: 0.0369 - accuracy: 0.9888 - val_loss: 0.0359 - val_accuracy: 0.9920\n",
            "Epoch 35/50\n",
            "782/782 [==============================] - 14s 18ms/step - loss: 0.0357 - accuracy: 0.9892 - val_loss: 0.0357 - val_accuracy: 0.9920\n",
            "Epoch 36/50\n",
            "782/782 [==============================] - 14s 18ms/step - loss: 0.0363 - accuracy: 0.9896 - val_loss: 0.0298 - val_accuracy: 0.9932\n",
            "Epoch 37/50\n",
            "782/782 [==============================] - 14s 18ms/step - loss: 0.0363 - accuracy: 0.9894 - val_loss: 0.0399 - val_accuracy: 0.9901\n",
            "Epoch 38/50\n",
            "782/782 [==============================] - 14s 19ms/step - loss: 0.0344 - accuracy: 0.9898 - val_loss: 0.0398 - val_accuracy: 0.9910\n",
            "Epoch 39/50\n",
            "782/782 [==============================] - 14s 18ms/step - loss: 0.0360 - accuracy: 0.9896 - val_loss: 0.0316 - val_accuracy: 0.9933\n",
            "Epoch 40/50\n",
            "782/782 [==============================] - 14s 17ms/step - loss: 0.0350 - accuracy: 0.9900 - val_loss: 0.0421 - val_accuracy: 0.9916\n",
            "Epoch 41/50\n",
            "782/782 [==============================] - 14s 17ms/step - loss: 0.0352 - accuracy: 0.9893 - val_loss: 0.0392 - val_accuracy: 0.9917\n",
            "Epoch 42/50\n",
            "782/782 [==============================] - 14s 17ms/step - loss: 0.0332 - accuracy: 0.9905 - val_loss: 0.0488 - val_accuracy: 0.9897\n",
            "Epoch 43/50\n",
            "782/782 [==============================] - 14s 18ms/step - loss: 0.0326 - accuracy: 0.9907 - val_loss: 0.0390 - val_accuracy: 0.9910\n",
            "Epoch 44/50\n",
            "782/782 [==============================] - 14s 18ms/step - loss: 0.0335 - accuracy: 0.9904 - val_loss: 0.0321 - val_accuracy: 0.9928\n",
            "Epoch 45/50\n",
            "782/782 [==============================] - 14s 18ms/step - loss: 0.0328 - accuracy: 0.9903 - val_loss: 0.0367 - val_accuracy: 0.9919\n",
            "Epoch 46/50\n",
            "782/782 [==============================] - 14s 18ms/step - loss: 0.0312 - accuracy: 0.9907 - val_loss: 0.0382 - val_accuracy: 0.9924\n",
            "Epoch 47/50\n",
            "782/782 [==============================] - 14s 18ms/step - loss: 0.0354 - accuracy: 0.9904 - val_loss: 0.0383 - val_accuracy: 0.9923\n",
            "Epoch 48/50\n",
            "782/782 [==============================] - 15s 19ms/step - loss: 0.0325 - accuracy: 0.9903 - val_loss: 0.0370 - val_accuracy: 0.9935\n",
            "Epoch 49/50\n",
            "782/782 [==============================] - 15s 19ms/step - loss: 0.0331 - accuracy: 0.9904 - val_loss: 0.0402 - val_accuracy: 0.9918\n",
            "Epoch 50/50\n",
            "782/782 [==============================] - 15s 19ms/step - loss: 0.0357 - accuracy: 0.9895 - val_loss: 0.0395 - val_accuracy: 0.9920\n",
            "Model: \"sequential_7\"\n",
            "_________________________________________________________________\n",
            "Layer (type)                 Output Shape              Param #   \n",
            "=================================================================\n",
            "conv2d_12 (Conv2D)           (None, 28, 28, 64)        640       \n",
            "_________________________________________________________________\n",
            "max_pooling2d_12 (MaxPooling (None, 14, 14, 64)        0         \n",
            "_________________________________________________________________\n",
            "conv2d_13 (Conv2D)           (None, 14, 14, 128)       73856     \n",
            "_________________________________________________________________\n",
            "max_pooling2d_13 (MaxPooling (None, 7, 7, 128)         0         \n",
            "_________________________________________________________________\n",
            "flatten_7 (Flatten)          (None, 6272)              0         \n",
            "_________________________________________________________________\n",
            "dense_14 (Dense)             (None, 128)               802944    \n",
            "_________________________________________________________________\n",
            "dropout_2 (Dropout)          (None, 128)               0         \n",
            "_________________________________________________________________\n",
            "dense_15 (Dense)             (None, 10)                1290      \n",
            "=================================================================\n",
            "Total params: 878,730\n",
            "Trainable params: 878,730\n",
            "Non-trainable params: 0\n",
            "_________________________________________________________________\n"
          ],
          "name": "stdout"
        }
      ]
    },
    {
      "cell_type": "code",
      "metadata": {
        "colab": {
          "base_uri": "https://localhost:8080/",
          "height": 313
        },
        "id": "f1yzpw-3Fpp7",
        "outputId": "3a1d0b26-291f-4cce-ad30-4489f9f6e98b"
      },
      "source": [
        "# 8. Vẽ đồ thị loss, accuracy của traning set và validation set\n",
        "fig = plt.figure()\n",
        "numOfEpoch = len(H.history['val_loss'])\n",
        "plt.plot(np.arange(0, numOfEpoch), H.history['loss'], label='training loss')\n",
        "plt.plot(np.arange(0, numOfEpoch), H.history['val_loss'], label='validation loss')\n",
        "plt.plot(np.arange(0, numOfEpoch), H.history['accuracy'], label='accuracy')\n",
        "plt.plot(np.arange(0, numOfEpoch), H.history['val_accuracy'], label='validation accuracy')\n",
        "plt.title('Accuracy and Loss')\n",
        "plt.xlabel('Epoch')\n",
        "plt.ylabel('Loss|Accuracy')\n",
        "plt.legend()"
      ],
      "execution_count": null,
      "outputs": [
        {
          "output_type": "execute_result",
          "data": {
            "text/plain": [
              "<matplotlib.legend.Legend at 0x7f5e10138940>"
            ]
          },
          "metadata": {
            "tags": []
          },
          "execution_count": 87
        },
        {
          "output_type": "display_data",
          "data": {
            "image/png": "[encoded data removed]",
            "text/plain": [
              "<Figure size 432x288 with 1 Axes>"
            ]
          },
          "metadata": {
            "tags": [],
            "needs_background": "light"
          }
        }
      ]
    },
    {
      "cell_type": "code",
      "metadata": {
        "colab": {
          "base_uri": "https://localhost:8080/"
        },
        "id": "-paTGP2DFrl8",
        "outputId": "23e8c29b-0610-469d-a3c5-c0015baac920"
      },
      "source": [
        "# 9. Đánh giá model với dữ liệu test set\n",
        "score = model.evaluate(X_test, Y_test, verbose=0)\n",
        "print(score)"
      ],
      "execution_count": null,
      "outputs": [
        {
          "output_type": "stream",
          "text": [
            "[0.034165021032094955, 0.9922999739646912]\n"
          ],
          "name": "stdout"
        }
      ]
    },
    {
      "cell_type": "code",
      "metadata": {
        "colab": {
          "base_uri": "https://localhost:8080/",
          "height": 536
        },
        "id": "aMewItAsFtEx",
        "outputId": "30b8b42e-18ed-4094-9da9-70994369c8a7"
      },
      "source": [
        "# 10. Dự đoán ảnh\n",
        "plt.figure(figsize=(9, 9))\n",
        "for i in range(9):\n",
        "  plt.subplot(3, 3, i+1)\n",
        "  plt.imshow(X_test[i].reshape(28,28), cmap='gray')\n",
        "  y_predict = model.predict(X_test[i].reshape(1,28,28,1))\n",
        "  plt.xlabel('Giá trị dự đoán: ' + str(np.argmax(y_predict)))\n",
        "  plt.xticks([])"
      ],
      "execution_count": null,
      "outputs": [
        {
          "output_type": "display_data",
          "data": {
            "image/png": "[encoded data removed]",
            "text/plain": [
              "<Figure size 648x648 with 9 Axes>"
            ]
          },
          "metadata": {
            "tags": [],
            "needs_background": "light"
          }
        }
      ]
    }
  ]
}